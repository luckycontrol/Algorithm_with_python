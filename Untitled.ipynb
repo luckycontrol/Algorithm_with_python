{
 "cells": [
  {
   "cell_type": "code",
   "execution_count": 1,
   "id": "67d76831-d738-42e5-8661-4c14bca9f379",
   "metadata": {},
   "outputs": [],
   "source": [
    "import tensorflow as tf\n",
    "from tensorflow import keras\n",
    "import numpy as np\n",
    "import matplotlib.pyplot as plt\n",
    "from sklearn.model_selection import train_test_split\n",
    "from sklearn.datasets import fetch_openml"
   ]
  },
  {
   "cell_type": "code",
   "execution_count": 12,
   "id": "9ea6697c-914a-42d5-aa3a-10b5e41a0bc9",
   "metadata": {},
   "outputs": [],
   "source": [
    "mnist = keras.datasets.mnist\n",
    "(x_train, y_train), (x_test, y_test) = mnist.load_data()"
   ]
  },
  {
   "cell_type": "code",
   "execution_count": 13,
   "id": "14db9f3b-7ed9-4b4c-803b-ca05b5a9d5e7",
   "metadata": {},
   "outputs": [],
   "source": [
    "x_train = x_train.reshape(x_train.shape[0], -1)\n",
    "x_test = x_test.reshape(x_test.shape[0], -1)"
   ]
  },
  {
   "cell_type": "code",
   "execution_count": 15,
   "id": "ac213f26-cf34-4482-98f0-7496871baef2",
   "metadata": {},
   "outputs": [],
   "source": [
    "noise = np.random.randint(0, 100, (x_train.shape[0], x_train.shape[1]))\n",
    "x_train_mod = x_train + noise"
   ]
  },
  {
   "cell_type": "code",
   "execution_count": 17,
   "id": "42d5e503-53aa-47ad-813a-50a9daf1ff09",
   "metadata": {},
   "outputs": [],
   "source": [
    "noise = np.random.randint(0, 100, (x_test.shape[0], x_test.shape[1]))\n",
    "x_test_mod = x_test + noise"
   ]
  },
  {
   "cell_type": "code",
   "execution_count": 19,
   "id": "8145dfeb-362e-4fe8-9239-dcdbfd32259d",
   "metadata": {},
   "outputs": [
    {
     "data": {
      "text/plain": [
       "<matplotlib.image.AxesImage at 0x16898dd00>"
      ]
     },
     "execution_count": 19,
     "metadata": {},
     "output_type": "execute_result"
    },
    {
     "data": {
      "image/png": "[encoded data removed]",
      "text/plain": [
       "<Figure size 432x288 with 1 Axes>"
      ]
     },
     "metadata": {
      "needs_background": "light"
     },
     "output_type": "display_data"
    }
   ],
   "source": [
    "plt.imshow(x_train_mod[0].reshape(28, 28))"
   ]
  },
  {
   "cell_type": "code",
   "execution_count": 20,
   "id": "9ac4d241-dbfc-4662-9a92-810d336fefec",
   "metadata": {},
   "outputs": [],
   "source": [
    "y_train_mod = x_train\n",
    "y_test_mod = x_test"
   ]
  },
  {
   "cell_type": "code",
   "execution_count": 21,
   "id": "2c6387f2-c49f-47f3-99b8-ffdda74f86d8",
   "metadata": {},
   "outputs": [],
   "source": [
    "from sklearn.neighbors import KNeighborsClassifier"
   ]
  },
  {
   "cell_type": "code",
   "execution_count": 22,
   "id": "2677d259-9637-4aa2-8862-6be377912da9",
   "metadata": {},
   "outputs": [],
   "source": [
    "knn = KNeighborsClassifier()"
   ]
  },
  {
   "cell_type": "code",
   "execution_count": 23,
   "id": "1be5c70c-a00b-4ba9-bc6b-9c5815f90b0c",
   "metadata": {},
   "outputs": [
    {
     "data": {
      "text/plain": [
       "KNeighborsClassifier()"
      ]
     },
     "execution_count": 23,
     "metadata": {},
     "output_type": "execute_result"
    }
   ],
   "source": [
    "knn.fit(x_train_mod, y_train_mod)"
   ]
  },
  {
   "cell_type": "code",
   "execution_count": 34,
   "id": "4198e49e-6df8-4477-a512-52a3b81afa5e",
   "metadata": {},
   "outputs": [],
   "source": [
    "clean_digit = knn.predict([y_test_mod[4]])"
   ]
  },
  {
   "cell_type": "code",
   "execution_count": 35,
   "id": "c063e044-0970-4f07-abe2-57f1e0bff633",
   "metadata": {},
   "outputs": [
    {
     "data": {
      "text/plain": [
       "<matplotlib.image.AxesImage at 0x177fc00a0>"
      ]
     },
     "execution_count": 35,
     "metadata": {},
     "output_type": "execute_result"
    },
    {
     "data": {
      "image/png": "[encoded data removed]",
      "text/plain": [
       "<Figure size 432x288 with 1 Axes>"
      ]
     },
     "metadata": {
      "needs_background": "light"
     },
     "output_type": "display_data"
    }
   ],
   "source": [
    "plt.imshow(clean_digit.reshape(28, 28))"
   ]
  },
  {
   "cell_type": "code",
   "execution_count": 36,
   "id": "a1a4bb97-9dab-46aa-a2a4-ea44338681ff",
   "metadata": {},
   "outputs": [
    {
     "data": {
      "text/plain": [
       "<matplotlib.image.AxesImage at 0x2d1f40490>"
      ]
     },
     "execution_count": 36,
     "metadata": {},
     "output_type": "execute_result"
    },
    {
     "data": {
      "image/png": "[encoded data removed]",
      "text/plain": [
       "<Figure size 432x288 with 1 Axes>"
      ]
     },
     "metadata": {
      "needs_background": "light"
     },
     "output_type": "display_data"
    }
   ],
   "source": [
    "plt.imshow(y_test_mod[4].reshape(28, 28))"
   ]
  },
  {
   "cell_type": "code",
   "execution_count": null,
   "id": "42375928-44bd-4e71-97c5-b9c704cb2bbc",
   "metadata": {},
   "outputs": [],
   "source": []
  }
 ],
 "metadata": {
  "kernelspec": {
   "display_name": "Python 3",
   "language": "python",
   "name": "python3"
  },
  "language_info": {
   "codemirror_mode": {
    "name": "ipython",
    "version": 3
   },
   "file_extension": ".py",
   "mimetype": "text/x-python",
   "name": "python",
   "nbconvert_exporter": "python",
   "pygments_lexer": "ipython3",
   "version": "3.8.8"
  }
 },
 "nbformat": 4,
 "nbformat_minor": 5
}
